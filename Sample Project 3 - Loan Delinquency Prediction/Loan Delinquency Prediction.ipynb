{
 "cells": [
  {
   "attachments": {},
   "cell_type": "markdown",
   "metadata": {},
   "source": [
    "This project is a sample project for modeling loan delinquency of Fannie Mae and Freddie Mac loans.  \n",
    "\n",
    "This data comes from a small sample of publicly available data provided by Fannie Mae and Freddie Mac which can be found here: https://capitalmarkets.fanniemae.com/credit-risk-transfer/single-family-credit-risk-transfer/fannie-mae-single-family-loan-performance-data.  \n",
    "\n",
    "To get the full dataset, an account must be created, but this data used only a subset that can be specifically downloaded here: https://capitalmarkets.fanniemae.com/resources/file/credit-risk/xls/sf-loan-performance-data-sample.csv.  This data does not come with column identification information, but there is a separate data dictionary which can be found in pdf form here: https://capitalmarkets.fanniemae.com/resources/file/credit-risk/xls/sf-loan-performance-data-sample.csv"
   ]
  },
  {
   "cell_type": "code",
   "execution_count": 3,
   "metadata": {},
   "outputs": [],
   "source": [
    "import pandas as pd\n",
    "import matplotlib.pyplot as plt\n",
    "import PyPDF2\n",
    "from sklearn.tree import DecisionTreeClassifier"
   ]
  },
  {
   "attachments": {},
   "cell_type": "markdown",
   "metadata": {},
   "source": [
    "Importing and Transforming MetaData Information from PDF"
   ]
  },
  {
   "cell_type": "code",
   "execution_count": 4,
   "metadata": {},
   "outputs": [],
   "source": [
    "text = ''\n",
    "with open(r\"C:\\Users\\nicho\\Downloads\\crt-file-layout-and-glossary.pdf\", 'rb') as f:\n",
    "    pdf_reader = PyPDF2.PdfFileReader(f)\n",
    "    for i in range(pdf_reader.numPages):\n",
    "        page = pdf_reader.getPage(i)\n",
    "        text += page.extractText()"
   ]
  },
  {
   "cell_type": "code",
   "execution_count": 5,
   "metadata": {},
   "outputs": [],
   "source": [
    "text_series = (\n",
    "    pd.Series(text.split(\"\\n\"))\n",
    "    .apply(lambda x: [x[:3], x[3:]] if x[:3].isnumeric() else x)\n",
    "    .apply(lambda x: [x[:2], x[2:]] if isinstance(x, str) and x[:2].isnumeric() else x)\n",
    "    .apply(lambda x: [x[:1], x[1:]] if isinstance(x, str) and x[:1].isnumeric() else x)\n",
    "    .apply(lambda x: x if isinstance(x, list) else None)\n",
    "    .dropna()\n",
    ")"
   ]
  },
  {
   "cell_type": "code",
   "execution_count": 6,
   "metadata": {},
   "outputs": [],
   "source": [
    "text_data = pd.DataFrame({'Column Number': text_series.apply(lambda x: x[0]), 'Column Details': text_series.apply(lambda x: x[1])})"
   ]
  },
  {
   "cell_type": "code",
   "execution_count": 7,
   "metadata": {},
   "outputs": [
    {
     "data": {
      "text/html": [
       "<div>\n",
       "<style scoped>\n",
       "    .dataframe tbody tr th:only-of-type {\n",
       "        vertical-align: middle;\n",
       "    }\n",
       "\n",
       "    .dataframe tbody tr th {\n",
       "        vertical-align: top;\n",
       "    }\n",
       "\n",
       "    .dataframe thead th {\n",
       "        text-align: right;\n",
       "    }\n",
       "</style>\n",
       "<table border=\"1\" class=\"dataframe\">\n",
       "  <thead>\n",
       "    <tr style=\"text-align: right;\">\n",
       "      <th></th>\n",
       "      <th>Column Number</th>\n",
       "      <th>Column Details</th>\n",
       "    </tr>\n",
       "  </thead>\n",
       "  <tbody>\n",
       "    <tr>\n",
       "      <th>8</th>\n",
       "      <td>6</td>\n",
       "      <td>Servicer NameThe name of the entity that serve...</td>\n",
       "    </tr>\n",
       "    <tr>\n",
       "      <th>25</th>\n",
       "      <td>6</td>\n",
       "      <td>/26/2023Single-Family Loan Performance Dataset...</td>\n",
       "    </tr>\n",
       "    <tr>\n",
       "      <th>36</th>\n",
       "      <td>6</td>\n",
       "      <td>/26/2023Single-Family Loan Performance Dataset...</td>\n",
       "    </tr>\n",
       "    <tr>\n",
       "      <th>55</th>\n",
       "      <td>6</td>\n",
       "      <td>/26/2023Single-Family Loan Performance Dataset...</td>\n",
       "    </tr>\n",
       "    <tr>\n",
       "      <th>65</th>\n",
       "      <td>97</td>\n",
       "      <td>= Delinquency (credit event due to D180)98 = ...</td>\n",
       "    </tr>\n",
       "    <tr>\n",
       "      <th>73</th>\n",
       "      <td>6</td>\n",
       "      <td>/26/2023Single-Family Loan Performance Dataset...</td>\n",
       "    </tr>\n",
       "    <tr>\n",
       "      <th>91</th>\n",
       "      <td>6</td>\n",
       "      <td>/26/2023Single-Family Loan Performance Dataset...</td>\n",
       "    </tr>\n",
       "    <tr>\n",
       "      <th>108</th>\n",
       "      <td>6</td>\n",
       "      <td>/26/2023Single-Family Loan Performance Dataset...</td>\n",
       "    </tr>\n",
       "    <tr>\n",
       "      <th>125</th>\n",
       "      <td>6</td>\n",
       "      <td>/26/2023Single-Family Loan Performance Dataset...</td>\n",
       "    </tr>\n",
       "    <tr>\n",
       "      <th>143</th>\n",
       "      <td>97</td>\n",
       "      <td>Periodic Interest Rate Cap Up PercentFor an ad...</td>\n",
       "    </tr>\n",
       "    <tr>\n",
       "      <th>146</th>\n",
       "      <td>6</td>\n",
       "      <td>/26/2023Single-Family Loan Performance Dataset...</td>\n",
       "    </tr>\n",
       "    <tr>\n",
       "      <th>167</th>\n",
       "      <td>6</td>\n",
       "      <td>/26/2023</td>\n",
       "    </tr>\n",
       "  </tbody>\n",
       "</table>\n",
       "</div>"
      ],
      "text/plain": [
       "    Column Number                                     Column Details\n",
       "8               6  Servicer NameThe name of the entity that serve...\n",
       "25              6  /26/2023Single-Family Loan Performance Dataset...\n",
       "36              6  /26/2023Single-Family Loan Performance Dataset...\n",
       "55              6  /26/2023Single-Family Loan Performance Dataset...\n",
       "65             97   = Delinquency (credit event due to D180)98 = ...\n",
       "73              6  /26/2023Single-Family Loan Performance Dataset...\n",
       "91              6  /26/2023Single-Family Loan Performance Dataset...\n",
       "108             6  /26/2023Single-Family Loan Performance Dataset...\n",
       "125             6  /26/2023Single-Family Loan Performance Dataset...\n",
       "143            97  Periodic Interest Rate Cap Up PercentFor an ad...\n",
       "146             6  /26/2023Single-Family Loan Performance Dataset...\n",
       "167             6                                           /26/2023"
      ]
     },
     "execution_count": 7,
     "metadata": {},
     "output_type": "execute_result"
    }
   ],
   "source": [
    "text_data.loc[(text_data['Column Number'] == '6') | (text_data['Column Number'] == '97'), :]"
   ]
  },
  {
   "cell_type": "code",
   "execution_count": 8,
   "metadata": {},
   "outputs": [],
   "source": [
    "text_data = text_data.loc[~text_data.index.isin([25,36,55,58,65,73,91,108,125,146,167])]"
   ]
  },
  {
   "cell_type": "code",
   "execution_count": 9,
   "metadata": {},
   "outputs": [],
   "source": [
    "text_data['Column Details'] = text_data['Column Details'].str.replace('([a-zA-Z])([A-Z])', r'\\1,\\2', regex=True).apply(lambda x: x.split(','))"
   ]
  },
  {
   "cell_type": "code",
   "execution_count": 10,
   "metadata": {},
   "outputs": [],
   "source": [
    "text_data['Column Name'] = text_data['Column Details'].apply(lambda x: x[0])"
   ]
  },
  {
   "cell_type": "code",
   "execution_count": 11,
   "metadata": {},
   "outputs": [],
   "source": [
    "text_data['Column Number'] = text_data['Column Number'].astype(int)"
   ]
  },
  {
   "cell_type": "code",
   "execution_count": 12,
   "metadata": {},
   "outputs": [],
   "source": [
    "text_data = text_data.sort_values('Column Number')"
   ]
  },
  {
   "attachments": {},
   "cell_type": "markdown",
   "metadata": {},
   "source": [
    "Identifying Data Column Names"
   ]
  },
  {
   "cell_type": "code",
   "execution_count": 13,
   "metadata": {},
   "outputs": [
    {
     "data": {
      "text/plain": [
       "2             Reference Pool I\n",
       "3              Loan Identifier\n",
       "4     Monthly Reporting Period\n",
       "5                      Channel\n",
       "6                  Seller Name\n",
       "8                Servicer Name\n",
       "10             Master Servicer\n",
       "11      Original Interest Rate\n",
       "12       Current Interest Rate\n",
       "13                  Original U\n",
       "Name: Column Name, dtype: object"
      ]
     },
     "execution_count": 13,
     "metadata": {},
     "output_type": "execute_result"
    }
   ],
   "source": [
    "text_data['Column Name'].head(10)"
   ]
  },
  {
   "attachments": {},
   "cell_type": "markdown",
   "metadata": {},
   "source": [
    "Import Sample of Loan Data"
   ]
  },
  {
   "cell_type": "code",
   "execution_count": 14,
   "metadata": {},
   "outputs": [],
   "source": [
    "loan_data = pd.read_csv(r\"C:\\Users\\nicho\\Downloads\\sf-loan-performance-data-sample.csv\", delimiter = '|', header = None)"
   ]
  },
  {
   "cell_type": "code",
   "execution_count": 15,
   "metadata": {},
   "outputs": [],
   "source": [
    "loan_data.columns = text_data['Column Name']"
   ]
  },
  {
   "cell_type": "code",
   "execution_count": 47,
   "metadata": {},
   "outputs": [],
   "source": [
    "loan_data = loan_data.rename(\n",
    "    columns={\n",
    "        loan_data.iloc[:, 107].name: \"Total Deferral Amount\",\n",
    "        \"Reference Pool I\": \"Reference Pool ID\",\n",
    "        \"Original U\": \"Original UPB\",\n",
    "        \"U\": \"UPB at Issuance\",\n",
    "        \"Current Actual U\": \"Current Actual UPB\",\n",
    "    }\n",
    ")"
   ]
  },
  {
   "attachments": {},
   "cell_type": "markdown",
   "metadata": {},
   "source": [
    "Reviewing Loan Data"
   ]
  },
  {
   "cell_type": "code",
   "execution_count": 17,
   "metadata": {},
   "outputs": [
    {
     "data": {
      "text/html": [
       "<div>\n",
       "<style scoped>\n",
       "    .dataframe tbody tr th:only-of-type {\n",
       "        vertical-align: middle;\n",
       "    }\n",
       "\n",
       "    .dataframe tbody tr th {\n",
       "        vertical-align: top;\n",
       "    }\n",
       "\n",
       "    .dataframe thead th {\n",
       "        text-align: right;\n",
       "    }\n",
       "</style>\n",
       "<table border=\"1\" class=\"dataframe\">\n",
       "  <thead>\n",
       "    <tr style=\"text-align: right;\">\n",
       "      <th>Column Name</th>\n",
       "      <th>Reference Pool ID</th>\n",
       "      <th>Loan Identifier</th>\n",
       "      <th>Monthly Reporting Period</th>\n",
       "      <th>Channel</th>\n",
       "      <th>Seller Name</th>\n",
       "      <th>Servicer Name</th>\n",
       "      <th>Master Servicer</th>\n",
       "      <th>Original Interest Rate</th>\n",
       "      <th>Current Interest Rate</th>\n",
       "      <th>Original U</th>\n",
       "      <th>...</th>\n",
       "      <th>Mortgage Margin</th>\n",
       "      <th>A</th>\n",
       "      <th>A</th>\n",
       "      <th>Borrower Assistance Plan</th>\n",
       "      <th>High Loan to Value (H</th>\n",
       "      <th>Deal Name</th>\n",
       "      <th>Repurchase Make Whole Proceeds Flag</th>\n",
       "      <th>Alternative Delinquency Resolution</th>\n",
       "      <th>Alternative Delinquency  Resolution Count</th>\n",
       "      <th>Total Deferral Amount</th>\n",
       "    </tr>\n",
       "  </thead>\n",
       "  <tbody>\n",
       "    <tr>\n",
       "      <th>0</th>\n",
       "      <td>NaN</td>\n",
       "      <td>100023020488</td>\n",
       "      <td>82009</td>\n",
       "      <td>R</td>\n",
       "      <td>Other</td>\n",
       "      <td>Other</td>\n",
       "      <td>NaN</td>\n",
       "      <td>5.375</td>\n",
       "      <td>5.375</td>\n",
       "      <td>55000.0</td>\n",
       "      <td>...</td>\n",
       "      <td>NaN</td>\n",
       "      <td>NaN</td>\n",
       "      <td>NaN</td>\n",
       "      <td>NaN</td>\n",
       "      <td>N</td>\n",
       "      <td>NaN</td>\n",
       "      <td>NaN</td>\n",
       "      <td>NaN</td>\n",
       "      <td>NaN</td>\n",
       "      <td>NaN</td>\n",
       "    </tr>\n",
       "    <tr>\n",
       "      <th>1</th>\n",
       "      <td>NaN</td>\n",
       "      <td>100023020488</td>\n",
       "      <td>92009</td>\n",
       "      <td>R</td>\n",
       "      <td>Other</td>\n",
       "      <td>Other</td>\n",
       "      <td>NaN</td>\n",
       "      <td>5.375</td>\n",
       "      <td>5.375</td>\n",
       "      <td>55000.0</td>\n",
       "      <td>...</td>\n",
       "      <td>NaN</td>\n",
       "      <td>NaN</td>\n",
       "      <td>NaN</td>\n",
       "      <td>NaN</td>\n",
       "      <td>N</td>\n",
       "      <td>NaN</td>\n",
       "      <td>NaN</td>\n",
       "      <td>NaN</td>\n",
       "      <td>NaN</td>\n",
       "      <td>NaN</td>\n",
       "    </tr>\n",
       "    <tr>\n",
       "      <th>2</th>\n",
       "      <td>NaN</td>\n",
       "      <td>100023020488</td>\n",
       "      <td>102009</td>\n",
       "      <td>R</td>\n",
       "      <td>Other</td>\n",
       "      <td>Other</td>\n",
       "      <td>NaN</td>\n",
       "      <td>5.375</td>\n",
       "      <td>5.375</td>\n",
       "      <td>55000.0</td>\n",
       "      <td>...</td>\n",
       "      <td>NaN</td>\n",
       "      <td>NaN</td>\n",
       "      <td>NaN</td>\n",
       "      <td>NaN</td>\n",
       "      <td>N</td>\n",
       "      <td>NaN</td>\n",
       "      <td>NaN</td>\n",
       "      <td>NaN</td>\n",
       "      <td>NaN</td>\n",
       "      <td>NaN</td>\n",
       "    </tr>\n",
       "    <tr>\n",
       "      <th>3</th>\n",
       "      <td>NaN</td>\n",
       "      <td>100023020488</td>\n",
       "      <td>112009</td>\n",
       "      <td>R</td>\n",
       "      <td>Other</td>\n",
       "      <td>Other</td>\n",
       "      <td>NaN</td>\n",
       "      <td>5.375</td>\n",
       "      <td>5.375</td>\n",
       "      <td>55000.0</td>\n",
       "      <td>...</td>\n",
       "      <td>NaN</td>\n",
       "      <td>NaN</td>\n",
       "      <td>NaN</td>\n",
       "      <td>NaN</td>\n",
       "      <td>N</td>\n",
       "      <td>NaN</td>\n",
       "      <td>NaN</td>\n",
       "      <td>NaN</td>\n",
       "      <td>NaN</td>\n",
       "      <td>NaN</td>\n",
       "    </tr>\n",
       "    <tr>\n",
       "      <th>4</th>\n",
       "      <td>NaN</td>\n",
       "      <td>100023020488</td>\n",
       "      <td>122009</td>\n",
       "      <td>R</td>\n",
       "      <td>Other</td>\n",
       "      <td>Other</td>\n",
       "      <td>NaN</td>\n",
       "      <td>5.375</td>\n",
       "      <td>5.375</td>\n",
       "      <td>55000.0</td>\n",
       "      <td>...</td>\n",
       "      <td>NaN</td>\n",
       "      <td>NaN</td>\n",
       "      <td>NaN</td>\n",
       "      <td>NaN</td>\n",
       "      <td>N</td>\n",
       "      <td>NaN</td>\n",
       "      <td>NaN</td>\n",
       "      <td>NaN</td>\n",
       "      <td>NaN</td>\n",
       "      <td>NaN</td>\n",
       "    </tr>\n",
       "  </tbody>\n",
       "</table>\n",
       "<p>5 rows × 108 columns</p>\n",
       "</div>"
      ],
      "text/plain": [
       "Column Name  Reference Pool ID  Loan Identifier  Monthly Reporting Period  \\\n",
       "0                          NaN     100023020488                     82009   \n",
       "1                          NaN     100023020488                     92009   \n",
       "2                          NaN     100023020488                    102009   \n",
       "3                          NaN     100023020488                    112009   \n",
       "4                          NaN     100023020488                    122009   \n",
       "\n",
       "Column Name Channel Seller Name Servicer Name  Master Servicer  \\\n",
       "0                 R       Other         Other              NaN   \n",
       "1                 R       Other         Other              NaN   \n",
       "2                 R       Other         Other              NaN   \n",
       "3                 R       Other         Other              NaN   \n",
       "4                 R       Other         Other              NaN   \n",
       "\n",
       "Column Name  Original Interest Rate  Current Interest Rate  Original U  ...  \\\n",
       "0                             5.375                  5.375     55000.0  ...   \n",
       "1                             5.375                  5.375     55000.0  ...   \n",
       "2                             5.375                  5.375     55000.0  ...   \n",
       "3                             5.375                  5.375     55000.0  ...   \n",
       "4                             5.375                  5.375     55000.0  ...   \n",
       "\n",
       "Column Name  Mortgage Margin   A   A  Borrower Assistance Plan  \\\n",
       "0                        NaN NaN NaN                       NaN   \n",
       "1                        NaN NaN NaN                       NaN   \n",
       "2                        NaN NaN NaN                       NaN   \n",
       "3                        NaN NaN NaN                       NaN   \n",
       "4                        NaN NaN NaN                       NaN   \n",
       "\n",
       "Column Name  High Loan to Value (H  Deal Name  \\\n",
       "0                                N        NaN   \n",
       "1                                N        NaN   \n",
       "2                                N        NaN   \n",
       "3                                N        NaN   \n",
       "4                                N        NaN   \n",
       "\n",
       "Column Name  Repurchase Make Whole Proceeds Flag  \\\n",
       "0                                            NaN   \n",
       "1                                            NaN   \n",
       "2                                            NaN   \n",
       "3                                            NaN   \n",
       "4                                            NaN   \n",
       "\n",
       "Column Name  Alternative Delinquency Resolution  \\\n",
       "0                                           NaN   \n",
       "1                                           NaN   \n",
       "2                                           NaN   \n",
       "3                                           NaN   \n",
       "4                                           NaN   \n",
       "\n",
       "Column Name  Alternative Delinquency  Resolution Count  Total Deferral Amount  \n",
       "0                                                  NaN                    NaN  \n",
       "1                                                  NaN                    NaN  \n",
       "2                                                  NaN                    NaN  \n",
       "3                                                  NaN                    NaN  \n",
       "4                                                  NaN                    NaN  \n",
       "\n",
       "[5 rows x 108 columns]"
      ]
     },
     "execution_count": 17,
     "metadata": {},
     "output_type": "execute_result"
    }
   ],
   "source": [
    "loan_data.head()"
   ]
  },
  {
   "attachments": {},
   "cell_type": "markdown",
   "metadata": {},
   "source": [
    "Transforming Delinquency Data"
   ]
  },
  {
   "cell_type": "code",
   "execution_count": 18,
   "metadata": {},
   "outputs": [],
   "source": [
    "loan_data['Current Loan Delinquency Status'] = loan_data['Current Loan Delinquency Status'].apply(lambda x: '99' if x == 'XX' else x).astype(int)"
   ]
  },
  {
   "attachments": {},
   "cell_type": "markdown",
   "metadata": {},
   "source": [
    "Plotting Delinquency Data"
   ]
  },
  {
   "cell_type": "code",
   "execution_count": 19,
   "metadata": {},
   "outputs": [
    {
     "data": {
      "text/plain": [
       "<AxesSubplot: title={'center': 'Histogram of Current Loan Delinquency Status'}>"
      ]
     },
     "execution_count": 19,
     "metadata": {},
     "output_type": "execute_result"
    },
    {
     "data": {
      "image/png": "[encoded data removed]",
      "text/plain": [
       "<Figure size 640x480 with 1 Axes>"
      ]
     },
     "metadata": {},
     "output_type": "display_data"
    }
   ],
   "source": [
    "plt.title('Histogram of Current Loan Delinquency Status')\n",
    "loan_data['Current Loan Delinquency Status'].hist()"
   ]
  },
  {
   "cell_type": "code",
   "execution_count": 20,
   "metadata": {},
   "outputs": [
    {
     "data": {
      "text/plain": [
       "<AxesSubplot: title={'center': 'Histogram of Current Loan Delinquency Status excluding 0 values'}>"
      ]
     },
     "execution_count": 20,
     "metadata": {},
     "output_type": "execute_result"
    },
    {
     "data": {
      "image/png": "[encoded data removed]",
      "text/plain": [
       "<Figure size 640x480 with 1 Axes>"
      ]
     },
     "metadata": {},
     "output_type": "display_data"
    }
   ],
   "source": [
    "plt.title('Histogram of Current Loan Delinquency Status excluding 0 values')\n",
    "loan_data['Current Loan Delinquency Status'].apply(lambda x: None if x == 0 else x).dropna().hist()"
   ]
  },
  {
   "cell_type": "code",
   "execution_count": 21,
   "metadata": {},
   "outputs": [],
   "source": [
    "loan_data['Greater than 60 days delinquent'] = loan_data['Current Loan Delinquency Status'].apply(lambda x: 1 if x > 2 else 0)"
   ]
  },
  {
   "cell_type": "code",
   "execution_count": 22,
   "metadata": {},
   "outputs": [
    {
     "data": {
      "text/plain": [
       "<AxesSubplot: title={'center': ' 10.3% of These Loans are Greater than 60 days delinquent'}, ylabel='Greater than 60 days delinquent'>"
      ]
     },
     "execution_count": 22,
     "metadata": {},
     "output_type": "execute_result"
    },
    {
     "data": {
      "image/png": "[encoded data removed]",
      "text/plain": [
       "<Figure size 640x480 with 1 Axes>"
      ]
     },
     "metadata": {},
     "output_type": "display_data"
    }
   ],
   "source": [
    "plt.title(f\"{loan_data['Greater than 60 days delinquent'].sum() / loan_data.shape[0] * 100: .1f}% of These Loans are Greater than 60 days delinquent\")\n",
    "loan_data['Greater than 60 days delinquent'].value_counts().rename({1: \"Loans Greater than 60 Days Delinquent\", 0: \"Loans Less than 60 Days Delinquent\"}).plot.pie()"
   ]
  },
  {
   "cell_type": "code",
   "execution_count": 49,
   "metadata": {},
   "outputs": [],
   "source": [
    "predictors = pd.get_dummies(loan_data.loc[:, loan_data.columns[~loan_data.columns.isin(['Greater than 60 days delinquent', 'Current Loan Delinquency Status'])]])"
   ]
  },
  {
   "cell_type": "code",
   "execution_count": 50,
   "metadata": {},
   "outputs": [],
   "source": [
    "predictors = predictors.dropna(axis = 1)"
   ]
  },
  {
   "cell_type": "code",
   "execution_count": 51,
   "metadata": {},
   "outputs": [],
   "source": [
    "outcome_variable = loan_data['Greater than 60 days delinquent']"
   ]
  },
  {
   "cell_type": "code",
   "execution_count": 52,
   "metadata": {},
   "outputs": [
    {
     "data": {
      "text/plain": [
       "1.0"
      ]
     },
     "execution_count": 52,
     "metadata": {},
     "output_type": "execute_result"
    }
   ],
   "source": [
    "model = DecisionTreeClassifier()\n",
    "model.fit(predictors, outcome_variable)\n",
    "model.score(predictors, outcome_variable)"
   ]
  },
  {
   "cell_type": "code",
   "execution_count": 53,
   "metadata": {},
   "outputs": [
    {
     "data": {
      "text/plain": [
       "Current Actual UPB                          0.531139\n",
       "Origination Date                            0.220630\n",
       "Monthly Reporting Period                    0.116607\n",
       "Original Combined Loan to Value Ratio (C    0.071070\n",
       "Modification Flag_N                         0.031616\n",
       "Servicer Name_Jp Morgan Chase Bank, Na      0.012251\n",
       "Property State_TX                           0.009541\n",
       "Seller Name_Pnc Bank, N.A.                  0.007147\n",
       "Property State_VA                           0.000000\n",
       "Property State_UT                           0.000000\n",
       "dtype: float64"
      ]
     },
     "execution_count": 53,
     "metadata": {},
     "output_type": "execute_result"
    }
   ],
   "source": [
    "pd.Series(model.feature_importances_, index = predictors.columns).sort_values(ascending = False).head(10)"
   ]
  },
  {
   "cell_type": "code",
   "execution_count": 69,
   "metadata": {},
   "outputs": [
    {
     "data": {
      "text/plain": [
       "<AxesSubplot: title={'center': 'Histogram of Current Actual UPB for loans less than 60 days delinquent vs. loans greater than 60 days delinquent'}>"
      ]
     },
     "execution_count": 69,
     "metadata": {},
     "output_type": "execute_result"
    },
    {
     "data": {
      "image/png": "[encoded data removed]",
      "text/plain": [
       "<Figure size 640x480 with 1 Axes>"
      ]
     },
     "metadata": {},
     "output_type": "display_data"
    }
   ],
   "source": [
    "plt.title('Histogram of Current Actual UPB for loans less than 60 days delinquent vs. loans greater than 60 days delinquent')\n",
    "loan_data.loc[loan_data['Greater than 60 days delinquent'] == 0, 'Current Actual UPB'].rename(\"Loans Less than 60 days delinquent\").hist(alpha = 0.5, density = True, bins = 10, legend = True)\n",
    "loan_data.loc[loan_data['Greater than 60 days delinquent'] == 1, 'Current Actual UPB'].rename(\"Loans greater than 60 days delinquent\").hist(alpha = .5, density = True, bins = 5, legend = True)"
   ]
  },
  {
   "cell_type": "code",
   "execution_count": null,
   "metadata": {},
   "outputs": [],
   "source": []
  }
 ],
 "metadata": {
  "kernelspec": {
   "display_name": "base",
   "language": "python",
   "name": "python3"
  },
  "language_info": {
   "codemirror_mode": {
    "name": "ipython",
    "version": 3
   },
   "file_extension": ".py",
   "mimetype": "text/x-python",
   "name": "python",
   "nbconvert_exporter": "python",
   "pygments_lexer": "ipython3",
   "version": "3.10.6"
  },
  "orig_nbformat": 4
 },
 "nbformat": 4,
 "nbformat_minor": 2
}
